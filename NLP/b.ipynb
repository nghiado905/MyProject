{
 "cells": [
  {
   "cell_type": "code",
   "execution_count": 2,
   "metadata": {},
   "outputs": [
    {
     "name": "stdout",
     "output_type": "stream",
     "text": [
      "Complete URL: http://api.openweathermap.org/data/3.0/onecall/timemachine?lat=21.0285&lon=105.8542&dt=1720886242&appid=0706188be46c52e0136e9007e8e727d6\n",
      "HTTP Status Code: 401\n",
      "Response Content: {\"cod\":401, \"message\": \"Please note that using One Call 3.0 requires a separate subscription to the One Call by Call plan. Learn more here https://openweathermap.org/price. If you have a valid subscription to the One Call by Call plan, but still receive this error, then please see https://openweathermap.org/faq#error401 for more info.\"}\n",
      "Error: 401\n"
     ]
    }
   ],
   "source": [
    "import requests\n",
    "import time\n",
    "import json\n",
    "from datetime import datetime\n",
    "\n",
    "# API key của bạn\n",
    "api_key = \"0706188be46c52e0136e9007e8e727d6\"\n",
    "\n",
    "# Tọa độ của thành phố Hà Nội\n",
    "latitude = 21.0285\n",
    "longitude = 105.8542\n",
    "\n",
    "# Thời gian Unix (Epoch) của thời điểm quá khứ bạn muốn lấy dữ liệu (ví dụ: 1 tuần trước)\n",
    "past_time = int(time.time()) - 7 * 24 * 60 * 60\n",
    "\n",
    "# Tạo URL để thực hiện yêu cầu\n",
    "base_url = \"http://api.openweathermap.org/data/3.0/onecall/timemachine\"\n",
    "complete_url = f\"{base_url}?lat={latitude}&lon={longitude}&dt={past_time}&appid={api_key}\"\n",
    "\n",
    "print(f\"Complete URL: {complete_url}\")\n",
    "\n",
    "# Gửi yêu cầu và nhận phản hồi\n",
    "response = requests.get(complete_url)\n",
    "\n",
    "print(f\"HTTP Status Code: {response.status_code}\")\n",
    "print(f\"Response Content: {response.content.decode('utf-8')}\")\n",
    "\n",
    "if response.status_code == 200:\n",
    "    weather_data = response.json()\n",
    "    print(json.dumps(weather_data, indent=4))\n",
    "    \n",
    "    # Lưu dữ liệu vào tệp JSON\n",
    "    file_name = f\"weather_data_{datetime.fromtimestamp(past_time).strftime('%Y%m%d')}.json\"\n",
    "    with open(file_name, 'w') as json_file:\n",
    "        json.dump(weather_data, json_file, indent=4)\n",
    "else:\n",
    "    print(f\"Error: {response.status_code}\")"
   ]
  },
  {
   "cell_type": "code",
   "execution_count": null,
   "metadata": {},
   "outputs": [],
   "source": [
    "import requests\n",
    "import time\n",
    "import json\n",
    "from datetime import datetime, timedelta\n",
    "\n",
    "# API key của bạn\n",
    "api_key = \"0706188be46c52e0136e9007e8e727d6\"\n",
    "\n",
    "# Tọa độ của thành phố Hà Nội\n",
    "latitude = 21.0285\n",
    "longitude = 105.8542\n",
    "\n",
    "# Thời gian bắt đầu (ngày đầu tiên của năm 2022)\n",
    "start_date = datetime(2022, 1, 1)\n",
    "\n",
    "# Số ngày cần lấy dữ liệu\n",
    "num_days = 1000\n",
    "\n",
    "# Tạo danh sách các thời gian Unix (Epoch) cho mỗi ngày\n",
    "timestamps = [int((start_date + timedelta(days=i)).timestamp()) for i in range(num_days)]\n",
    "\n",
    "# File để lưu dữ liệu\n",
    "output_file = \"weather_data_2022_2023.txt\"\n",
    "\n",
    "# Mở file để ghi\n",
    "with open(output_file, 'w') as file:\n",
    "    for i, past_time in enumerate(timestamps):\n",
    "        # Tạo URL để thực hiện yêu cầu\n",
    "        base_url = \"http://api.openweathermap.org/data/3.0/onecall/timemachine\"\n",
    "        complete_url = f\"{base_url}?lat={latitude}&lon={longitude}&dt={past_time}&appid={api_key}\"\n",
    "        \n",
    "        # Gửi yêu cầu và nhận phản hồi\n",
    "        response = requests.get(complete_url)\n",
    "        \n",
    "        if response.status_code == 200:\n",
    "            weather_data = response.json()\n",
    "            \n",
    "            # Ghi dữ liệu vào file\n",
    "            file.write(json.dumps(weather_data) + '\\n')\n",
    "            \n",
    "            print(f\"Fetched data for {datetime.fromtimestamp(past_time).strftime('%Y-%m-%d')} (Day {i + 1} of {num_days})\")\n",
    "        else:\n",
    "            print(f\"Error {response.status_code} for {datetime.fromtimestamp(past_time).strftime('%Y-%m-%d')}\")\n",
    "        \n",
    "        # Chờ một chút để không vượt quá giới hạn tốc độ API\n",
    "        time.sleep(1)  # Điều chỉnh thời gian nghỉ dựa trên giới hạn tốc độ API của bạn\n"
   ]
  }
 ],
 "metadata": {
  "kernelspec": {
   "display_name": "Python 3",
   "language": "python",
   "name": "python3"
  },
  "language_info": {
   "codemirror_mode": {
    "name": "ipython",
    "version": 3
   },
   "file_extension": ".py",
   "mimetype": "text/x-python",
   "name": "python",
   "nbconvert_exporter": "python",
   "pygments_lexer": "ipython3",
   "version": "3.10.0"
  }
 },
 "nbformat": 4,
 "nbformat_minor": 2
}
