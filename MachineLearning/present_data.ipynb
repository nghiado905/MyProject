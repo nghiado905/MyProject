{
 "cells": [
  {
   "cell_type": "code",
   "execution_count": 1,
   "metadata": {},
   "outputs": [
    {
     "name": "stdout",
     "output_type": "stream",
     "text": [
      "{'Temperature': 30.0, 'Pressure': 995, 'Humidity': 82, 'Description': 'broken clouds', 'Wind Speed': 0.91, 'Timestamp': '2024-07-25T23:44:02.903387'}\n",
      "{'Temperature': 29.0, 'Pressure': 995, 'Humidity': 82, 'Description': 'scattered clouds', 'Wind Speed': 0.83, 'Timestamp': '2024-07-26T00:44:03.211017'}\n"
     ]
    }
   ],
   "source": [
    "import requests\n",
    "import time\n",
    "import csv\n",
    "from datetime import datetime\n",
    "\n",
    "# API key của bạn\n",
    "api_key = \"0706188be46c52e0136e9007e8e727d6\"\n",
    "city_name = \"Hanoi\"\n",
    "country_code = \"VN\"  # Mã quốc gia (VN cho Việt Nam)\n",
    "base_url = \"http://api.openweathermap.org/data/2.5/weather?\"\n",
    "\n",
    "# Tạo URL để thực hiện yêu cầu\n",
    "complete_url = f\"{base_url}q={city_name},{country_code}&appid={api_key}\"\n",
    "\n",
    "# Tên tệp CSV\n",
    "file_name = \"weather_data4.csv\"\n",
    "\n",
    "# Hàm để ghi tiêu đề (header) vào tệp CSV nếu chưa tồn tại\n",
    "def write_header():\n",
    "    with open(file_name, 'a', newline='') as csv_file:\n",
    "        writer = csv.writer(csv_file)\n",
    "        writer.writerow([\"Temperature\", \"Pressure\", \"Humidity\", \"Description\", \"Wind Speed\", \"Timestamp\"])\n",
    "\n",
    "# Ghi tiêu đề nếu tệp CSV chưa tồn tại hoặc trống\n",
    "try:\n",
    "    with open(file_name, 'r') as csv_file:\n",
    "        pass\n",
    "except FileNotFoundError:\n",
    "    write_header()\n",
    "\n",
    "def get_weather_data():\n",
    "    response = requests.get(complete_url)\n",
    "    \n",
    "    if response.status_code == 200:\n",
    "        weather_data = response.json()\n",
    "        main = weather_data[\"main\"]\n",
    "        wind = weather_data[\"wind\"]\n",
    "        weather_description = weather_data[\"weather\"][0][\"description\"]\n",
    "\n",
    "        weather_info = {\n",
    "            \"Temperature\": main['temp'] - 273.15,\n",
    "            \"Pressure\": main['pressure'],\n",
    "            \"Humidity\": main['humidity'],\n",
    "            \"Description\": weather_description,\n",
    "            \"Wind Speed\": wind['speed'],\n",
    "            \"Timestamp\": datetime.now().isoformat()\n",
    "        }\n",
    "        \n",
    "        print(weather_info)\n",
    "        \n",
    "        # Lưu dữ liệu vào tệp CSV\n",
    "        with open(file_name, 'a', newline='') as csv_file:\n",
    "            writer = csv.writer(csv_file)\n",
    "            writer.writerow(weather_info.values())\n",
    "    else:\n",
    "        print(f\"City not found or there was an error: {response.status_code}\")\n",
    "\n",
    "# Streaming dữ liệu liên tục với khoảng thời gian giữa các yêu cầu\n",
    "def stream_weather_data(interval=60):\n",
    "    try:\n",
    "        while True:\n",
    "            get_weather_data()\n",
    "            time.sleep(interval)  # Chờ đợi khoảng thời gian trước khi gửi yêu cầu tiếp theo\n",
    "    except KeyboardInterrupt:\n",
    "        print(\"Stopped streaming data\")\n",
    "\n",
    "# Gọi hàm stream_weather_data với khoảng thời gian 60 giây giữa các yêu cầu\n",
    "stream_weather_data(3600)\n"
   ]
  },
  {
   "cell_type": "code",
   "execution_count": null,
   "metadata": {},
   "outputs": [],
   "source": []
  },
  {
   "cell_type": "code",
   "execution_count": 31,
   "metadata": {},
   "outputs": [
    {
     "name": "stdout",
     "output_type": "stream",
     "text": [
      "Lỗi 401: API key không hợp lệ hoặc không có quyền truy cập.\n",
      "Dữ liệu thời tiết đã được ghi vào tệp 'weather_data.csv'\n"
     ]
    }
   ],
   "source": [
    "import requests\n",
    "import datetime\n",
    "import csv\n",
    "\n",
    "API_KEY = '0706188be46c52e0136e9007e8e727d6'\n",
    "city_name = \"Hanoi\"\n",
    "country_code = \"VN\"\n",
    "base_url = \"http://api.openweathermap.org/data/2.5/onecall/timemachine?\"\n",
    "\n",
    "# Tạo URL để thực hiện yêu cầu\n",
    "complete_url = f\"{base_url}q={city_name},{country_code}&appid={API_KEY}&units=metric\"\n",
    "\n",
    "def get_weather_data():\n",
    "    response = requests.get(complete_url)\n",
    "    if response.status_code == 401:\n",
    "        print(\"Lỗi 401: API key không hợp lệ hoặc không có quyền truy cập.\")\n",
    "        return None\n",
    "    data = response.json()\n",
    "    return data\n",
    "\n",
    "# Lấy dữ liệu thời tiết hiện tại và ghi vào tệp CSV\n",
    "weather_data = get_weather_data()\n",
    "if weather_data:\n",
    "    with open('weather_data.csv', mode='w', newline='', encoding='utf-8') as file:\n",
    "        writer = csv.writer(file)\n",
    "        writer.writerow(['Date', 'Temperature', 'Feels Like', 'Temp Min', 'Temp Max', 'Pressure', 'Humidity', 'Weather', 'Description', 'Wind Speed', 'Wind Deg', 'Clouds'])\n",
    "\n",
    "        date = datetime.datetime.now().strftime(\"%Y-%m-%d\")\n",
    "        temperature = weather_data['main']['temp']\n",
    "        feels_like = weather_data['main']['feels_like']\n",
    "        temp_min = weather_data['main']['temp_min']\n",
    "        temp_max = weather_data['main']['temp_max']\n",
    "        pressure = weather_data['main']['pressure']\n",
    "        humidity = weather_data['main']['humidity']\n",
    "        weather = weather_data['weather'][0]['main']\n",
    "        description = weather_data['weather'][0]['description']\n",
    "        wind_speed = weather_data['wind']['speed']\n",
    "        wind_deg = weather_data['wind']['deg']\n",
    "        clouds = weather_data['clouds']['all']\n",
    "\n",
    "        writer.writerow([date, temperature, feels_like, temp_min, temp_max, pressure, humidity, weather, description, wind_speed, wind_deg, clouds])\n",
    "\n",
    "print(\"Dữ liệu thời tiết đã được ghi vào tệp 'weather_data.csv'\")\n"
   ]
  },
  {
   "cell_type": "code",
   "execution_count": 32,
   "metadata": {},
   "outputs": [
    {
     "name": "stdout",
     "output_type": "stream",
     "text": [
      "Location Key for Hanoi: 353412\n"
     ]
    }
   ],
   "source": [
    "import requests\n",
    "\n",
    "API_KEY = '90kjGe6AlImlc66asuF6o1Dkz8G1a8Hz'\n",
    "city_name = \"Hanoi\"\n",
    "location_url = f\"http://dataservice.accuweather.com/locations/v1/cities/search?apikey={API_KEY}&q={city_name}\"\n",
    "\n",
    "response = requests.get(location_url)\n",
    "if response.status_code == 200:\n",
    "    location_data = response.json()\n",
    "    if location_data:\n",
    "        location_key = location_data[0]['Key']\n",
    "        print(f\"Location Key for {city_name}: {location_key}\")\n",
    "    else:\n",
    "        print(\"Không tìm thấy Location Key.\")\n",
    "else:\n",
    "    print(f\"Lỗi {response.status_code}: Không thể lấy Location Key.\")\n"
   ]
  },
  {
   "cell_type": "code",
   "execution_count": 33,
   "metadata": {},
   "outputs": [
    {
     "name": "stdout",
     "output_type": "stream",
     "text": [
      "[{'LocalObservationDateTime': '2024-07-26T11:57:00+07:00', 'EpochTime': 1721969820, 'WeatherText': 'Sunny', 'WeatherIcon': 1, 'HasPrecipitation': False, 'PrecipitationType': None, 'IsDayTime': True, 'Temperature': {'Metric': {'Value': 31.1, 'Unit': 'C', 'UnitType': 17}, 'Imperial': {'Value': 88.0, 'Unit': 'F', 'UnitType': 18}}, 'MobileLink': 'http://www.accuweather.com/en/vn/hanoi/353412/current-weather/353412?lang=en-us', 'Link': 'http://www.accuweather.com/en/vn/hanoi/353412/current-weather/353412?lang=en-us'}, {'LocalObservationDateTime': '2024-07-26T11:03:00+07:00', 'EpochTime': 1721966580, 'WeatherText': 'Sunny', 'WeatherIcon': 1, 'HasPrecipitation': False, 'PrecipitationType': None, 'IsDayTime': True, 'Temperature': {'Metric': {'Value': 31.1, 'Unit': 'C', 'UnitType': 17}, 'Imperial': {'Value': 88.0, 'Unit': 'F', 'UnitType': 18}}, 'MobileLink': 'http://www.accuweather.com/en/vn/hanoi/353412/current-weather/353412?lang=en-us', 'Link': 'http://www.accuweather.com/en/vn/hanoi/353412/current-weather/353412?lang=en-us'}, {'LocalObservationDateTime': '2024-07-26T09:57:00+07:00', 'EpochTime': 1721962620, 'WeatherText': 'Sunny', 'WeatherIcon': 1, 'HasPrecipitation': False, 'PrecipitationType': None, 'IsDayTime': True, 'Temperature': {'Metric': {'Value': 30.1, 'Unit': 'C', 'UnitType': 17}, 'Imperial': {'Value': 86.0, 'Unit': 'F', 'UnitType': 18}}, 'MobileLink': 'http://www.accuweather.com/en/vn/hanoi/353412/current-weather/353412?lang=en-us', 'Link': 'http://www.accuweather.com/en/vn/hanoi/353412/current-weather/353412?lang=en-us'}, {'LocalObservationDateTime': '2024-07-26T09:03:00+07:00', 'EpochTime': 1721959380, 'WeatherText': 'Partly sunny', 'WeatherIcon': 3, 'HasPrecipitation': False, 'PrecipitationType': None, 'IsDayTime': True, 'Temperature': {'Metric': {'Value': 30.1, 'Unit': 'C', 'UnitType': 17}, 'Imperial': {'Value': 86.0, 'Unit': 'F', 'UnitType': 18}}, 'MobileLink': 'http://www.accuweather.com/en/vn/hanoi/353412/current-weather/353412?lang=en-us', 'Link': 'http://www.accuweather.com/en/vn/hanoi/353412/current-weather/353412?lang=en-us'}, {'LocalObservationDateTime': '2024-07-26T07:57:00+07:00', 'EpochTime': 1721955420, 'WeatherText': 'Mostly cloudy', 'WeatherIcon': 6, 'HasPrecipitation': False, 'PrecipitationType': None, 'IsDayTime': True, 'Temperature': {'Metric': {'Value': 28.7, 'Unit': 'C', 'UnitType': 17}, 'Imperial': {'Value': 84.0, 'Unit': 'F', 'UnitType': 18}}, 'MobileLink': 'http://www.accuweather.com/en/vn/hanoi/353412/current-weather/353412?lang=en-us', 'Link': 'http://www.accuweather.com/en/vn/hanoi/353412/current-weather/353412?lang=en-us'}, {'LocalObservationDateTime': '2024-07-26T06:57:00+07:00', 'EpochTime': 1721951820, 'WeatherText': 'Mostly cloudy', 'WeatherIcon': 6, 'HasPrecipitation': False, 'PrecipitationType': None, 'IsDayTime': True, 'Temperature': {'Metric': {'Value': 27.7, 'Unit': 'C', 'UnitType': 17}, 'Imperial': {'Value': 82.0, 'Unit': 'F', 'UnitType': 18}}, 'MobileLink': 'http://www.accuweather.com/en/vn/hanoi/353412/current-weather/353412?lang=en-us', 'Link': 'http://www.accuweather.com/en/vn/hanoi/353412/current-weather/353412?lang=en-us'}, {'LocalObservationDateTime': '2024-07-26T05:58:00+07:00', 'EpochTime': 1721948280, 'WeatherText': 'Mostly cloudy', 'WeatherIcon': 6, 'HasPrecipitation': False, 'PrecipitationType': None, 'IsDayTime': True, 'Temperature': {'Metric': {'Value': 27.2, 'Unit': 'C', 'UnitType': 17}, 'Imperial': {'Value': 81.0, 'Unit': 'F', 'UnitType': 18}}, 'MobileLink': 'http://www.accuweather.com/en/vn/hanoi/353412/current-weather/353412?lang=en-us', 'Link': 'http://www.accuweather.com/en/vn/hanoi/353412/current-weather/353412?lang=en-us'}, {'LocalObservationDateTime': '2024-07-26T04:58:00+07:00', 'EpochTime': 1721944680, 'WeatherText': 'Partly cloudy', 'WeatherIcon': 35, 'HasPrecipitation': False, 'PrecipitationType': None, 'IsDayTime': False, 'Temperature': {'Metric': {'Value': 26.6, 'Unit': 'C', 'UnitType': 17}, 'Imperial': {'Value': 80.0, 'Unit': 'F', 'UnitType': 18}}, 'MobileLink': 'http://www.accuweather.com/en/vn/hanoi/353412/current-weather/353412?lang=en-us', 'Link': 'http://www.accuweather.com/en/vn/hanoi/353412/current-weather/353412?lang=en-us'}, {'LocalObservationDateTime': '2024-07-26T03:58:00+07:00', 'EpochTime': 1721941080, 'WeatherText': 'Partly cloudy', 'WeatherIcon': 35, 'HasPrecipitation': False, 'PrecipitationType': None, 'IsDayTime': False, 'Temperature': {'Metric': {'Value': 27.4, 'Unit': 'C', 'UnitType': 17}, 'Imperial': {'Value': 81.0, 'Unit': 'F', 'UnitType': 18}}, 'MobileLink': 'http://www.accuweather.com/en/vn/hanoi/353412/current-weather/353412?lang=en-us', 'Link': 'http://www.accuweather.com/en/vn/hanoi/353412/current-weather/353412?lang=en-us'}, {'LocalObservationDateTime': '2024-07-26T03:03:00+07:00', 'EpochTime': 1721937780, 'WeatherText': 'Partly cloudy', 'WeatherIcon': 35, 'HasPrecipitation': False, 'PrecipitationType': None, 'IsDayTime': False, 'Temperature': {'Metric': {'Value': 27.4, 'Unit': 'C', 'UnitType': 17}, 'Imperial': {'Value': 81.0, 'Unit': 'F', 'UnitType': 18}}, 'MobileLink': 'http://www.accuweather.com/en/vn/hanoi/353412/current-weather/353412?lang=en-us', 'Link': 'http://www.accuweather.com/en/vn/hanoi/353412/current-weather/353412?lang=en-us'}, {'LocalObservationDateTime': '2024-07-26T02:02:00+07:00', 'EpochTime': 1721934120, 'WeatherText': 'Mostly clear', 'WeatherIcon': 34, 'HasPrecipitation': False, 'PrecipitationType': None, 'IsDayTime': False, 'Temperature': {'Metric': {'Value': 27.9, 'Unit': 'C', 'UnitType': 17}, 'Imperial': {'Value': 82.0, 'Unit': 'F', 'UnitType': 18}}, 'MobileLink': 'http://www.accuweather.com/en/vn/hanoi/353412/current-weather/353412?lang=en-us', 'Link': 'http://www.accuweather.com/en/vn/hanoi/353412/current-weather/353412?lang=en-us'}, {'LocalObservationDateTime': '2024-07-26T01:02:00+07:00', 'EpochTime': 1721930520, 'WeatherText': 'Mostly clear', 'WeatherIcon': 34, 'HasPrecipitation': False, 'PrecipitationType': None, 'IsDayTime': False, 'Temperature': {'Metric': {'Value': 27.6, 'Unit': 'C', 'UnitType': 17}, 'Imperial': {'Value': 82.0, 'Unit': 'F', 'UnitType': 18}}, 'MobileLink': 'http://www.accuweather.com/en/vn/hanoi/353412/current-weather/353412?lang=en-us', 'Link': 'http://www.accuweather.com/en/vn/hanoi/353412/current-weather/353412?lang=en-us'}, {'LocalObservationDateTime': '2024-07-25T23:58:00+07:00', 'EpochTime': 1721926680, 'WeatherText': 'Mostly clear', 'WeatherIcon': 34, 'HasPrecipitation': False, 'PrecipitationType': None, 'IsDayTime': False, 'Temperature': {'Metric': {'Value': 28.3, 'Unit': 'C', 'UnitType': 17}, 'Imperial': {'Value': 83.0, 'Unit': 'F', 'UnitType': 18}}, 'MobileLink': 'http://www.accuweather.com/en/vn/hanoi/353412/current-weather/353412?lang=en-us', 'Link': 'http://www.accuweather.com/en/vn/hanoi/353412/current-weather/353412?lang=en-us'}, {'LocalObservationDateTime': '2024-07-25T23:02:00+07:00', 'EpochTime': 1721923320, 'WeatherText': 'Mostly clear', 'WeatherIcon': 34, 'HasPrecipitation': False, 'PrecipitationType': None, 'IsDayTime': False, 'Temperature': {'Metric': {'Value': 28.3, 'Unit': 'C', 'UnitType': 17}, 'Imperial': {'Value': 83.0, 'Unit': 'F', 'UnitType': 18}}, 'MobileLink': 'http://www.accuweather.com/en/vn/hanoi/353412/current-weather/353412?lang=en-us', 'Link': 'http://www.accuweather.com/en/vn/hanoi/353412/current-weather/353412?lang=en-us'}, {'LocalObservationDateTime': '2024-07-25T21:57:00+07:00', 'EpochTime': 1721919420, 'WeatherText': 'Mostly cloudy', 'WeatherIcon': 38, 'HasPrecipitation': False, 'PrecipitationType': None, 'IsDayTime': False, 'Temperature': {'Metric': {'Value': 28.5, 'Unit': 'C', 'UnitType': 17}, 'Imperial': {'Value': 83.0, 'Unit': 'F', 'UnitType': 18}}, 'MobileLink': 'http://www.accuweather.com/en/vn/hanoi/353412/current-weather/353412?lang=en-us', 'Link': 'http://www.accuweather.com/en/vn/hanoi/353412/current-weather/353412?lang=en-us'}, {'LocalObservationDateTime': '2024-07-25T20:58:00+07:00', 'EpochTime': 1721915880, 'WeatherText': 'Mostly cloudy', 'WeatherIcon': 38, 'HasPrecipitation': False, 'PrecipitationType': None, 'IsDayTime': False, 'Temperature': {'Metric': {'Value': 28.9, 'Unit': 'C', 'UnitType': 17}, 'Imperial': {'Value': 84.0, 'Unit': 'F', 'UnitType': 18}}, 'MobileLink': 'http://www.accuweather.com/en/vn/hanoi/353412/current-weather/353412?lang=en-us', 'Link': 'http://www.accuweather.com/en/vn/hanoi/353412/current-weather/353412?lang=en-us'}, {'LocalObservationDateTime': '2024-07-25T19:57:00+07:00', 'EpochTime': 1721912220, 'WeatherText': 'Mostly cloudy', 'WeatherIcon': 38, 'HasPrecipitation': False, 'PrecipitationType': None, 'IsDayTime': False, 'Temperature': {'Metric': {'Value': 30.0, 'Unit': 'C', 'UnitType': 17}, 'Imperial': {'Value': 86.0, 'Unit': 'F', 'UnitType': 18}}, 'MobileLink': 'http://www.accuweather.com/en/vn/hanoi/353412/current-weather/353412?lang=en-us', 'Link': 'http://www.accuweather.com/en/vn/hanoi/353412/current-weather/353412?lang=en-us'}, {'LocalObservationDateTime': '2024-07-25T18:57:00+07:00', 'EpochTime': 1721908620, 'WeatherText': 'Mostly clear', 'WeatherIcon': 34, 'HasPrecipitation': False, 'PrecipitationType': None, 'IsDayTime': False, 'Temperature': {'Metric': {'Value': 31.2, 'Unit': 'C', 'UnitType': 17}, 'Imperial': {'Value': 88.0, 'Unit': 'F', 'UnitType': 18}}, 'MobileLink': 'http://www.accuweather.com/en/vn/hanoi/353412/current-weather/353412?lang=en-us', 'Link': 'http://www.accuweather.com/en/vn/hanoi/353412/current-weather/353412?lang=en-us'}, {'LocalObservationDateTime': '2024-07-25T18:03:00+07:00', 'EpochTime': 1721905380, 'WeatherText': 'Mostly sunny', 'WeatherIcon': 2, 'HasPrecipitation': False, 'PrecipitationType': None, 'IsDayTime': True, 'Temperature': {'Metric': {'Value': 31.2, 'Unit': 'C', 'UnitType': 17}, 'Imperial': {'Value': 88.0, 'Unit': 'F', 'UnitType': 18}}, 'MobileLink': 'http://www.accuweather.com/en/vn/hanoi/353412/current-weather/353412?lang=en-us', 'Link': 'http://www.accuweather.com/en/vn/hanoi/353412/current-weather/353412?lang=en-us'}, {'LocalObservationDateTime': '2024-07-25T16:58:00+07:00', 'EpochTime': 1721901480, 'WeatherText': 'Partly sunny', 'WeatherIcon': 3, 'HasPrecipitation': False, 'PrecipitationType': None, 'IsDayTime': True, 'Temperature': {'Metric': {'Value': 32.5, 'Unit': 'C', 'UnitType': 17}, 'Imperial': {'Value': 91.0, 'Unit': 'F', 'UnitType': 18}}, 'MobileLink': 'http://www.accuweather.com/en/vn/hanoi/353412/current-weather/353412?lang=en-us', 'Link': 'http://www.accuweather.com/en/vn/hanoi/353412/current-weather/353412?lang=en-us'}, {'LocalObservationDateTime': '2024-07-25T15:58:00+07:00', 'EpochTime': 1721897880, 'WeatherText': 'Mostly cloudy', 'WeatherIcon': 6, 'HasPrecipitation': False, 'PrecipitationType': None, 'IsDayTime': True, 'Temperature': {'Metric': {'Value': 34.1, 'Unit': 'C', 'UnitType': 17}, 'Imperial': {'Value': 93.0, 'Unit': 'F', 'UnitType': 18}}, 'MobileLink': 'http://www.accuweather.com/en/vn/hanoi/353412/current-weather/353412?lang=en-us', 'Link': 'http://www.accuweather.com/en/vn/hanoi/353412/current-weather/353412?lang=en-us'}, {'LocalObservationDateTime': '2024-07-25T15:02:00+07:00', 'EpochTime': 1721894520, 'WeatherText': 'Mostly cloudy', 'WeatherIcon': 6, 'HasPrecipitation': False, 'PrecipitationType': None, 'IsDayTime': True, 'Temperature': {'Metric': {'Value': 34.1, 'Unit': 'C', 'UnitType': 17}, 'Imperial': {'Value': 93.0, 'Unit': 'F', 'UnitType': 18}}, 'MobileLink': 'http://www.accuweather.com/en/vn/hanoi/353412/current-weather/353412?lang=en-us', 'Link': 'http://www.accuweather.com/en/vn/hanoi/353412/current-weather/353412?lang=en-us'}, {'LocalObservationDateTime': '2024-07-25T14:02:00+07:00', 'EpochTime': 1721890920, 'WeatherText': 'Mostly cloudy', 'WeatherIcon': 6, 'HasPrecipitation': False, 'PrecipitationType': None, 'IsDayTime': True, 'Temperature': {'Metric': {'Value': 33.5, 'Unit': 'C', 'UnitType': 17}, 'Imperial': {'Value': 92.0, 'Unit': 'F', 'UnitType': 18}}, 'MobileLink': 'http://www.accuweather.com/en/vn/hanoi/353412/current-weather/353412?lang=en-us', 'Link': 'http://www.accuweather.com/en/vn/hanoi/353412/current-weather/353412?lang=en-us'}, {'LocalObservationDateTime': '2024-07-25T12:57:00+07:00', 'EpochTime': 1721887020, 'WeatherText': 'Partly sunny', 'WeatherIcon': 3, 'HasPrecipitation': False, 'PrecipitationType': None, 'IsDayTime': True, 'Temperature': {'Metric': {'Value': 32.5, 'Unit': 'C', 'UnitType': 17}, 'Imperial': {'Value': 90.0, 'Unit': 'F', 'UnitType': 18}}, 'MobileLink': 'http://www.accuweather.com/en/vn/hanoi/353412/current-weather/353412?lang=en-us', 'Link': 'http://www.accuweather.com/en/vn/hanoi/353412/current-weather/353412?lang=en-us'}]\n"
     ]
    }
   ],
   "source": [
    "historical_weather_url = f\"http://dataservice.accuweather.com/currentconditions/v1/{location_key}/historical/24?apikey={API_KEY}\"\n",
    "\n",
    "response = requests.get(historical_weather_url)\n",
    "if response.status_code == 200:\n",
    "    historical_weather_data = response.json()\n",
    "    print(historical_weather_data)\n",
    "else:\n",
    "    print(f\"Lỗi {response.status_code}: Không thể lấy dữ liệu thời tiết trong quá khứ.\")\n"
   ]
  },
  {
   "cell_type": "code",
   "execution_count": 34,
   "metadata": {},
   "outputs": [
    {
     "name": "stdout",
     "output_type": "stream",
     "text": [
      "Nhiệt độ hiện tại ở Hà Nội: 34.4°C\n"
     ]
    }
   ],
   "source": [
    "# Sau khi có Location Key, sử dụng nó để lấy dữ liệu nhiệt độ\n",
    "location_key = \"353412\"  # Thay thế bằng Location Key bạn lấy được từ bước 1\n",
    "current_conditions_url = f\"http://dataservice.accuweather.com/currentconditions/v1/{location_key}?apikey={API_KEY}\"\n",
    "\n",
    "response = requests.get(current_conditions_url)\n",
    "if response.status_code == 200:\n",
    "    current_conditions_data = response.json()\n",
    "    if current_conditions_data:\n",
    "        temperature = current_conditions_data[0]['Temperature']['Metric']['Value']\n",
    "        print(f\"Nhiệt độ hiện tại ở Hà Nội: {temperature}°C\")\n",
    "    else:\n",
    "        print(\"Không tìm thấy dữ liệu nhiệt độ.\")\n",
    "else:\n",
    "    print(f\"Lỗi {response.status_code}: Không thể lấy dữ liệu nhiệt độ.\")\n"
   ]
  },
  {
   "cell_type": "code",
   "execution_count": 42,
   "metadata": {},
   "outputs": [
    {
     "name": "stdout",
     "output_type": "stream",
     "text": [
      "            tavg  tmin  tmax  wspd    pres  prcp  snow\n",
      "time                                                  \n",
      "2021-10-31  20.7  20.0  22.0   6.7  1017.5   2.0   NaN\n",
      "2021-11-01  21.5  20.0  22.0   9.1  1017.4   4.7   NaN\n",
      "2021-11-02  21.7  21.0  23.0   6.8  1017.1   8.8   NaN\n",
      "2021-11-03  23.9  21.0  27.0   7.2  1015.3   0.8   NaN\n",
      "2021-11-04  26.4  22.0  30.0  12.5  1012.3   0.4   NaN\n",
      "...          ...   ...   ...   ...     ...   ...   ...\n",
      "2024-07-22  29.7  26.0  33.0   7.9  1002.3   3.6   NaN\n",
      "2024-07-23  26.5  25.0  29.0  14.4   997.7  93.7   NaN\n",
      "2024-07-24  27.8  26.0  32.0  10.8   995.5  17.2   NaN\n",
      "2024-07-25  30.0  26.7  33.6   6.8   993.0   2.6   NaN\n",
      "2024-07-26  32.2  28.0  36.9   5.3   993.0   0.0   NaN\n",
      "\n",
      "[1000 rows x 7 columns]\n"
     ]
    }
   ],
   "source": [
    "from meteostat import Point, Daily\n",
    "import pandas as pd\n",
    "import datetime\n",
    "\n",
    "# Tạo điểm địa lý cho Hà Nội\n",
    "hanoi = Point(21.0285, 105.8542)\n",
    "\n",
    "# Ngày bắt đầu và kết thúc\n",
    "start_date = datetime.datetime.now() - datetime.timedelta(days=1000)\n",
    "end_date = datetime.datetime.now()\n",
    "\n",
    "# Lấy dữ liệu thời tiết lịch sử\n",
    "data = Daily(hanoi, start_date, end_date)\n",
    "data = data.fetch()\n",
    "\n",
    "# In ra các thông số thời tiết\n",
    "print(data[['tavg', 'tmin', 'tmax', 'wspd', 'pres', 'prcp', 'snow']])\n",
    "\n",
    "# Lưu dữ liệu vào tệp CSV\n",
    "data.to_csv('data\\weather_data.csv')\n"
   ]
  },
  {
   "cell_type": "code",
   "execution_count": null,
   "metadata": {},
   "outputs": [],
   "source": []
  }
 ],
 "metadata": {
  "kernelspec": {
   "display_name": "Python 3",
   "language": "python",
   "name": "python3"
  },
  "language_info": {
   "codemirror_mode": {
    "name": "ipython",
    "version": 3
   },
   "file_extension": ".py",
   "mimetype": "text/x-python",
   "name": "python",
   "nbconvert_exporter": "python",
   "pygments_lexer": "ipython3",
   "version": "3.10.0"
  }
 },
 "nbformat": 4,
 "nbformat_minor": 2
}
